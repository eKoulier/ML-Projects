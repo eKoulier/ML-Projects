{
 "cells": [
  {
   "cell_type": "markdown",
   "id": "a06ae2d6",
   "metadata": {},
   "source": [
    "# Preparation for coding interviews\n",
    "\n",
    "This notebook contains material from here: https://github.com/cl2333/Grokking-the-Coding-Interview-Patterns-for-Coding-Questions.git.\n",
    "\n",
    "For a nice jupyter notebook theme use the following line:\n",
    "\n",
    "`jt -t monokai -f fira -fs 13 -nf ptsans -nfs 11 -N -kl -cursw 5 -cursc r -cellw 90% -T`"
   ]
  },
  {
   "cell_type": "markdown",
   "id": "c9c5e678",
   "metadata": {},
   "source": [
    "<a id=\"1. Pattern sliding window\"></a>\n",
    "# 1. Pattern sliding window\n",
    "\n",
    "## 1.1 Smallest Subarray with a given sum\n",
    "\n",
    "Problem Statement \n",
    "\n",
    "Given an array of positive numbers and a positive number ‘S’, find the length of the smallest contiguous subarray whose sum is greater than or equal to ‘S’. Return 0, if no such subarray exists. \n",
    "\n",
    "<br>\n",
    "\n",
    "#### Example 1:\n",
    "Input: [2, 1, 5, 2, 3, 2], S=7 \n",
    "Output: 2\n",
    "\n",
    "Explanation: The smallest subarray with a sum great than or equal to '7' is [5, 2].\n",
    "\n",
    "<br>\n",
    "\n",
    "#### Example 2:\n",
    "Input: [2, 1, 5, 2, 8], S=7 \n",
    "Output: 1\n",
    "\n",
    "Explanation: The smallest subarray with a sum greater than or equal to '7' is [8].\n",
    "\n",
    "<br>\n",
    "\n",
    "#### Example 3:\n",
    "Input: [3, 4, 1, 1, 6], S=8 \n",
    "Output: 3\n",
    "\n",
    "Explanation: Smallest subarrays with a sum greater than or equal to '8' are [3, 4, 1] or [1, 1, 6].\n"
   ]
  },
  {
   "cell_type": "code",
   "execution_count": 1,
   "id": "d3dbe088",
   "metadata": {},
   "outputs": [],
   "source": [
    "import numpy as np"
   ]
  },
  {
   "cell_type": "code",
   "execution_count": 2,
   "id": "66aaf0c4",
   "metadata": {},
   "outputs": [],
   "source": [
    "def solution(array, target):\n",
    "    import numpy as np\n",
    "    start = 0    \n",
    "    cursum = 0\n",
    "    length = np.inf\n",
    "    for end in range(len(array)):\n",
    "        cursum += array[end]\n",
    "        while cursum >= target and end>=start:\n",
    "            length = min(length, 1+end-start)\n",
    "            cursum -= array[start]\n",
    "            start += 1           \n",
    "    if end - start == len(array) - 1:\n",
    "        return 0\n",
    "    else:\n",
    "        return length    "
   ]
  },
  {
   "cell_type": "code",
   "execution_count": 3,
   "id": "35f50e6b",
   "metadata": {},
   "outputs": [
    {
     "data": {
      "text/plain": [
       "2"
      ]
     },
     "execution_count": 3,
     "metadata": {},
     "output_type": "execute_result"
    }
   ],
   "source": [
    "solution([2,1,5,2,3,2], 7)"
   ]
  },
  {
   "cell_type": "code",
   "execution_count": 4,
   "id": "491ddc6d",
   "metadata": {},
   "outputs": [
    {
     "data": {
      "text/plain": [
       "1"
      ]
     },
     "execution_count": 4,
     "metadata": {},
     "output_type": "execute_result"
    }
   ],
   "source": [
    "solution([3, 4, 1, 1, 6], 4)"
   ]
  },
  {
   "cell_type": "markdown",
   "id": "22301773",
   "metadata": {},
   "source": [
    "## 1.2 Fruits into baskets (medium)\n",
    "\n",
    "Problem Statement \n",
    "\n",
    "Given an array of characters where each character represents a fruit tree, you are given two baskets and your goal is to put maximum number of fruits in each basket. The only restriction is that each basket can have only one type of fruit.\n",
    "You can start with any tree, but once you have started you can’t skip a tree. You will pick one fruit from each tree until you cannot, i.e., you will stop when you have to pick from a third fruit type.\n",
    "Write a function to return the maximum number of fruits in both the baskets.\n",
    "\n",
    "<br>\n",
    "\n",
    "#### Example 1:\n",
    "Input: Fruit=['A', 'B', 'C', 'A', 'C']\n",
    "Output: 3\n",
    "\n",
    "Explanation: We can put 2 'C' in one basket and one 'A' in the other from the subarray ['C', 'A', 'C']\n",
    "\n",
    "<br>\n",
    "\n",
    "#### Example 2:\n",
    "Input: Fruit=['A', 'B', 'C', 'B', 'B', 'C']\n",
    "Output: 5\n",
    "\n",
    "Explanation: We can put 3 'B' in one basket and two 'C' in the other basket. \n",
    "This can be done if we start with the second letter: ['B', 'C', 'B', 'B', 'C']"
   ]
  },
  {
   "cell_type": "code",
   "execution_count": 5,
   "id": "ec4728e0",
   "metadata": {},
   "outputs": [],
   "source": [
    "def solution(array):\n",
    "    \n",
    "    start = 0\n",
    "    fruits = {}\n",
    "    counts = -np.inf\n",
    "    \n",
    "    for end in range(len(array)):\n",
    "        right_fruit = array[end]\n",
    "        if right_fruit not in fruits:\n",
    "            fruits[right_fruit] = 0\n",
    "        fruits[right_fruit] += 1\n",
    "        \n",
    "        while len(fruits) > 2:\n",
    "            fruits[array[start]] -= 1\n",
    "            if fruits[array[start]] == 0:\n",
    "                del fruits[array[start]]\n",
    "            start += 1\n",
    "        \n",
    "        counts = max(counts, end-start+1)\n",
    "    \n",
    "    return counts"
   ]
  },
  {
   "cell_type": "code",
   "execution_count": 6,
   "id": "ad6d48cf",
   "metadata": {},
   "outputs": [
    {
     "data": {
      "text/plain": [
       "5"
      ]
     },
     "execution_count": 6,
     "metadata": {},
     "output_type": "execute_result"
    }
   ],
   "source": [
    "solution(['A','A', 'A', 'B', 'B'])"
   ]
  },
  {
   "cell_type": "code",
   "execution_count": 7,
   "id": "a32eae19",
   "metadata": {},
   "outputs": [
    {
     "data": {
      "text/plain": [
       "8"
      ]
     },
     "execution_count": 7,
     "metadata": {},
     "output_type": "execute_result"
    }
   ],
   "source": [
    "solution(['A', 'A', 'B', 'B', 'A', 'A', 'C', 'C', 'C' , 'C', 'C', 'C', 'B', 'A'])"
   ]
  },
  {
   "cell_type": "code",
   "execution_count": 8,
   "id": "ac5a740f",
   "metadata": {},
   "outputs": [
    {
     "data": {
      "text/plain": [
       "3"
      ]
     },
     "execution_count": 8,
     "metadata": {},
     "output_type": "execute_result"
    }
   ],
   "source": [
    "solution(['A', 'B', 'C', 'A', 'C'])"
   ]
  },
  {
   "cell_type": "markdown",
   "id": "50b3d3aa",
   "metadata": {},
   "source": [
    "### 1.3 Longest Substring with K Distinct (medium)\n",
    "\n",
    "Problem Statement #\n",
    "\n",
    "Given a string, find the length of the longest substring in it with no more than K distinct characters.\n",
    "\n",
    "<br>\n",
    "\n",
    "#### Example 1:\n",
    "Input: String=\"araaci\", K=2\n",
    "Output: 4\n",
    "\n",
    "Explanation: The longest substring with no more than '2' distinct characters is \"araa\".\n",
    "\n",
    "\n",
    "<br>\n",
    "\n",
    "#### Example 2:\n",
    "Input: String=\"araaci\", K=1\n",
    "Output: 2\n",
    "\n",
    "Explanation: The longest substring with no more than '1' distinct characters is \"aa\".\n",
    "\n",
    "<br>\n",
    "\n",
    "#### Example 3:\n",
    "Input: String=\"cbbebi\", K=3\n",
    "Output: 5\n",
    "\n",
    "Explanation: The longest substrings with no more than '3' distinct characters are \"cbbeb\" & \"bbebi\"."
   ]
  },
  {
   "cell_type": "code",
   "execution_count": 9,
   "id": "562f1f11",
   "metadata": {},
   "outputs": [],
   "source": [
    "def solution(givenstr, k):\n",
    "    \n",
    "    start = 0\n",
    "    chars = {}\n",
    "    max_length = -np.inf\n",
    "    \n",
    "    for end in range(len(givenstr)):\n",
    "        \n",
    "        char = givenstr[end]\n",
    "        if char not in chars:\n",
    "            chars[char] = 0\n",
    "        chars[char] += 1\n",
    "        \n",
    "        while len(chars) > k:\n",
    "            chars[givenstr[start]] -= 1\n",
    "            if chars[givenstr[start]] == 0:\n",
    "                del chars[givenstr[start]]\n",
    "            start += 1\n",
    "        \n",
    "        max_length = max(max_length, end-start+1)\n",
    "    \n",
    "    return max_length"
   ]
  },
  {
   "cell_type": "code",
   "execution_count": 10,
   "id": "25ade953",
   "metadata": {},
   "outputs": [
    {
     "data": {
      "text/plain": [
       "4"
      ]
     },
     "execution_count": 10,
     "metadata": {},
     "output_type": "execute_result"
    }
   ],
   "source": [
    "solution(\"araaci\", 2)"
   ]
  },
  {
   "cell_type": "code",
   "execution_count": 11,
   "id": "26c4f384",
   "metadata": {},
   "outputs": [
    {
     "data": {
      "text/plain": [
       "2"
      ]
     },
     "execution_count": 11,
     "metadata": {},
     "output_type": "execute_result"
    }
   ],
   "source": [
    "solution(\"araaci\", 1)"
   ]
  },
  {
   "cell_type": "code",
   "execution_count": 12,
   "id": "9b7f43b8",
   "metadata": {},
   "outputs": [
    {
     "data": {
      "text/plain": [
       "5"
      ]
     },
     "execution_count": 12,
     "metadata": {},
     "output_type": "execute_result"
    }
   ],
   "source": [
    "solution(\"cbbeb\", 3)"
   ]
  },
  {
   "cell_type": "markdown",
   "id": "d8a52709",
   "metadata": {},
   "source": [
    "### 1.4 Longest Subarray with Ones after Replacement (hard)\n",
    "\n",
    "Problem Statement \n",
    "Given an array containing 0s and 1s, if you are allowed to replace no more than ‘k’ 0s with 1s, find the length of the longest contiguous subarray having all 1s.\n",
    "\n",
    "\n",
    "<br>\n",
    "\n",
    "#### Example 1:\n",
    "Input: Array=[0, 1, 1, 0, 0, 0, 1, 1, 0, 1, 1], k=2\n",
    "Output: 6\n",
    "\n",
    "Explanation: Replace the '0' at index 5 and 8 to have the longest contiguous subarray of 1s having length 6.\n",
    "\n",
    "<br>\n",
    "\n",
    "#### Example 2:\n",
    "Input: Array=[0, 1, 0, 0, 1, 1, 0, 1, 1, 0, 0, 1, 1], k=3\n",
    "Output: 9\n",
    "\n",
    "Explanation: Replace the '0' at index 6, 9, and 10 to have the longest contiguous subarray of 1s having length 9."
   ]
  },
  {
   "cell_type": "code",
   "execution_count": 13,
   "id": "86e71168",
   "metadata": {},
   "outputs": [],
   "source": [
    "def solution(array, k):\n",
    "    \n",
    "    start = 0\n",
    "    counts = 0\n",
    "    max_length = -np.inf\n",
    "    \n",
    "    for end in range(len(array)):\n",
    "        \n",
    "        if array[end] == 0:\n",
    "            counts += 1\n",
    "            \n",
    "        while counts > k:\n",
    "            if array[start] == 0:\n",
    "                counts -= 1\n",
    "            start += 1\n",
    "        \n",
    "        max_length = max(max_length, end-start+1)\n",
    "    \n",
    "    return max_length"
   ]
  },
  {
   "cell_type": "code",
   "execution_count": 14,
   "id": "ed699621",
   "metadata": {},
   "outputs": [
    {
     "data": {
      "text/plain": [
       "6"
      ]
     },
     "execution_count": 14,
     "metadata": {},
     "output_type": "execute_result"
    }
   ],
   "source": [
    "solution([0, 1, 1, 0, 0, 0, 1, 1, 0, 1, 1], 2)"
   ]
  },
  {
   "cell_type": "code",
   "execution_count": 15,
   "id": "6a61483d",
   "metadata": {},
   "outputs": [
    {
     "data": {
      "text/plain": [
       "9"
      ]
     },
     "execution_count": 15,
     "metadata": {},
     "output_type": "execute_result"
    }
   ],
   "source": [
    "solution([0, 1, 0, 0, 1, 1, 0, 1, 1, 0, 0, 1, 1], 3)"
   ]
  },
  {
   "cell_type": "markdown",
   "id": "6e905ff2",
   "metadata": {},
   "source": [
    "### 1.5 Longest Substring with Same Letters after Replacement (hard)\n",
    "\n",
    "Problem Statement \n",
    "\n",
    "Given a string with lowercase letters only, if you are allowed to replace no more than ‘k’ letters with any letter, find the length of the longest substring having the same letters after replacement.\n",
    "\n",
    "<br>\n",
    "\n",
    "#### Example 1:\n",
    "Input: String=\"aabccbb\", k=2\n",
    "Output: 5\n",
    "\n",
    "Explanation: Replace the two 'c' with 'b' to have a longest repeating substring \"bbbbb\".\n",
    "\n",
    "<br>\n",
    "\n",
    "#### Example 2:\n",
    "Input: String=\"abbcb\", k=1\n",
    "Output: 4\n",
    "\n",
    "Explanation: Replace the 'c' with 'b' to have a longest repeating substring \"bbbb\".\n",
    "\n",
    "<br>\n",
    "\n",
    "#### Example 3:\n",
    "Input: String=\"abccde\", k=1\n",
    "Output: 3\n",
    "\n",
    "Explanation: Replace the 'b' or 'd' with 'c' to have the longest repeating substring \"ccc\"."
   ]
  },
  {
   "cell_type": "code",
   "execution_count": 16,
   "id": "6d0efa0f",
   "metadata": {},
   "outputs": [],
   "source": [
    "def solution(array, k):\n",
    "    \n",
    "    start = 0\n",
    "    counter = 0\n",
    "    max_length = -np.inf\n",
    "    current = array[0]\n",
    "    \n",
    "    for end in range(len(array)):\n",
    "        \n",
    "        if array[end] != current:\n",
    "            counter += 1\n",
    "            \n",
    "            if counter > k:\n",
    "                current = array[end]\n",
    "                counter = 0\n",
    "                \n",
    "                for i in range(end, start, -1):\n",
    "                    if array[i] != current:\n",
    "                        counter += 1\n",
    "                    if counter > k:\n",
    "                        break\n",
    "                    temp_start = i\n",
    "                start = temp_start\n",
    "        \n",
    "        max_length = max(max_length, end-start+1)\n",
    "    \n",
    "    return max_length\n",
    "\n",
    "\n",
    "def elegant_solution(array, k):\n",
    "    \n",
    "    start = 0\n",
    "    max_length = 0\n",
    "    letters = {}\n",
    "    \n",
    "    for end in range(len(array)):\n",
    "        letters[array[end]] = 1 + letters.get(array[end], 0)\n",
    "        \n",
    "        while end-start+1 - max(letters.values()) > k:\n",
    "            letters[array[start]] -= 1\n",
    "            start += 1\n",
    "        \n",
    "        max_lenght = max(max_length, end-start+1)\n",
    "    \n",
    "    return(max_lenght) "
   ]
  },
  {
   "cell_type": "code",
   "execution_count": 17,
   "id": "9d517594",
   "metadata": {},
   "outputs": [
    {
     "data": {
      "text/plain": [
       "True"
      ]
     },
     "execution_count": 17,
     "metadata": {},
     "output_type": "execute_result"
    }
   ],
   "source": [
    "solution(\"aabccbb\", 2) == elegant_solution(\"aabccbb\", 2) == 5"
   ]
  },
  {
   "cell_type": "code",
   "execution_count": 18,
   "id": "e1a1f8db",
   "metadata": {},
   "outputs": [
    {
     "data": {
      "text/plain": [
       "True"
      ]
     },
     "execution_count": 18,
     "metadata": {},
     "output_type": "execute_result"
    }
   ],
   "source": [
    "solution(\"abbcb\", 1) == elegant_solution(\"abbcb\", 1) == 4"
   ]
  },
  {
   "cell_type": "markdown",
   "id": "2deae395",
   "metadata": {},
   "source": [
    "### 1.6 No repeat sub-string (hard)\n",
    "\n",
    "Problem Statement \n",
    "\n",
    "Given a string, find the length of the longest substring which has no repeating characters.\n",
    "\n",
    "<br>\n",
    "\n",
    "#### Example 1:\n",
    "Input: String=\"aabccbb\"\n",
    "Output: 3\n",
    "\n",
    "Explanation: The longest substring without any repeating characters is \"abc\".\n",
    "\n",
    "<br>\n",
    "\n",
    "#### Example 2:\n",
    "Input: String=\"abbbb\"\n",
    "Output: 2\n",
    "\n",
    "Explanation: The longest substring without any repeating characters is \"ab\".\n",
    "\n",
    "<br>\n",
    "\n",
    "#### Example 3:\n",
    "Input: String=\"abccde\"\n",
    "Output: 3\n",
    "\n",
    "Explanation: Longest substrings without any repeating characters are \"abc\" & \"cde\".\n"
   ]
  },
  {
   "cell_type": "code",
   "execution_count": 24,
   "id": "6408432b",
   "metadata": {},
   "outputs": [],
   "source": [
    "def elegant_solution(string):\n",
    "    \"\"\"\n",
    "    This solution of mine is better that the solution of the \n",
    "    repository that I cloned.\n",
    "    \"\"\"\n",
    "    \n",
    "    start = 0\n",
    "    maxlength = 0\n",
    "    chars = set()\n",
    "    \n",
    "    for end in range(len(string)):\n",
    "        \n",
    "        while string[end] in chars and start<end:\n",
    "            chars.remove(string[start])\n",
    "            start += 1\n",
    "        \n",
    "        chars.add(string[end])\n",
    "        \n",
    "        maxlength = max(maxlength, end-start+1)\n",
    "    \n",
    "    return maxlength\n",
    "\n",
    "def solution(str):\n",
    "    window_start = 0\n",
    "    max_length = 0\n",
    "    char_index_map = {}\n",
    "    \n",
    "    # try to extend the range [windowStart, windowEnd]\n",
    "    for window_end in range(len(str)):\n",
    "        right_char = str[window_end]\n",
    "        # if the map already contains the 'right_char', shrink the window from the beginning so that\n",
    "        # we have only one occurrence of 'right_char'\n",
    "        if right_char in char_index_map:\n",
    "            # this is tricky; in the current window, we will not have any 'right_char' after its previous index\n",
    "            # and if 'window_start' is already ahead of the last index of 'right_char', we'll keep 'window_start'\n",
    "            window_start = max(window_start, char_index_map[right_char] + 1)\n",
    "        # insert the 'right_char' into the map\n",
    "        char_index_map[right_char] = window_end\n",
    "        # remember the maximum length so far\n",
    "        max_length = max(max_length, window_end - window_start + 1)\n",
    "        \n",
    "    return max_length"
   ]
  },
  {
   "cell_type": "code",
   "execution_count": 25,
   "id": "b2c9749f",
   "metadata": {},
   "outputs": [
    {
     "data": {
      "text/plain": [
       "True"
      ]
     },
     "execution_count": 25,
     "metadata": {},
     "output_type": "execute_result"
    }
   ],
   "source": [
    "elegant_solution('wabcdaefghijk') == solution('wabcdaefghijk') == 11"
   ]
  },
  {
   "cell_type": "code",
   "execution_count": 26,
   "id": "e989c056",
   "metadata": {},
   "outputs": [
    {
     "data": {
      "text/plain": [
       "True"
      ]
     },
     "execution_count": 26,
     "metadata": {},
     "output_type": "execute_result"
    }
   ],
   "source": [
    "elegant_solution('abccde') == solution('abccde') == 3"
   ]
  },
  {
   "cell_type": "markdown",
   "id": "e399fefc",
   "metadata": {},
   "source": [
    "### Problem Challenge 1\n",
    "**Permutation of a String (hard)**\n",
    "\n",
    "<br>\n",
    "Given a string and a pattern, find out if the string contains any permutation of the pattern.\n",
    " <br>\n",
    "Permutation is defined as the re-arranging of the characters of the string. For example, “abc” has the following six permutations:\n",
    "<br>\n",
    "abc <br>\n",
    "acb <br>\n",
    "bac <br>\n",
    "bca <br>\n",
    "cab <br>\n",
    "cba <br>\n",
    "\n",
    "<br>\n",
    "\n",
    "If a string has ‘n’ distinct characters it will have n!n! permutations.\n",
    "\n",
    "<br>\n",
    "\n",
    "#### Example 1:\n",
    "\n",
    "Input: String=\"oidbcaf\", Pattern=\"abc\" <br>\n",
    "Output: true <br>\n",
    "Explanation: The string contains \"bca\" which is a permutation of the given pattern.<br>\n",
    "<br>\n",
    "\n",
    "#### Example 2:\n",
    "\n",
    "Input: String=\"odicf\", Pattern=\"dc\"<br>\n",
    "Output: false<br>\n",
    "Explanation: No permutation of the pattern is present in the given string as a substring.<br>\n",
    "<br>\n",
    "\n",
    "#### Example 3:\n",
    "\n",
    "Input: String=\"bcdxabcdy\", Pattern=\"bcdyabcdx\"<br>\n",
    "Output: true<br>\n",
    "Explanation: Both the string and the pattern are a permutation of each other.<br>\n",
    "<br>\n",
    "\n",
    "#### Example 4:\n",
    "\n",
    "Input: String=\"aaacb\", Pattern=\"abc\"<br>\n",
    "Output: true<br>\n",
    "Explanation: The string contains \"acb\" which is a permutation of the given pattern.<br>"
   ]
  },
  {
   "cell_type": "code",
   "execution_count": 52,
   "id": "f7aecdba",
   "metadata": {},
   "outputs": [],
   "source": [
    "def solution(string, pattern):\n",
    "    from collections import Counter\n",
    "    \n",
    "    pattern_c = dict(Counter(pattern))\n",
    "    length = len(pattern)\n",
    "    current_c = dict(Counter(string[:length]))\n",
    "    \n",
    "    if current_c == pattern_c:\n",
    "        return True\n",
    "    \n",
    "    for i in range(0, len(string)+1-length):\n",
    "        start = i\n",
    "        end = i + length\n",
    "        \n",
    "        current_c[string[end]] = 1 + current_c.get(string[end], 0)\n",
    "        current_c[string[start]] -= 1\n",
    "        \n",
    "        if current_c[string[start]] == 0:\n",
    "            del current_c[string[start]]\n",
    "        \n",
    "        if current_c == pattern_c:\n",
    "            return True\n",
    "        \n",
    "    return False"
   ]
  },
  {
   "cell_type": "code",
   "execution_count": 53,
   "id": "26ff03d0",
   "metadata": {},
   "outputs": [
    {
     "data": {
      "text/plain": [
       "True"
      ]
     },
     "execution_count": 53,
     "metadata": {},
     "output_type": "execute_result"
    }
   ],
   "source": [
    "solution('oidbcaf', 'abc')"
   ]
  },
  {
   "cell_type": "code",
   "execution_count": 54,
   "id": "578a0982",
   "metadata": {},
   "outputs": [
    {
     "data": {
      "text/plain": [
       "True"
      ]
     },
     "execution_count": 54,
     "metadata": {},
     "output_type": "execute_result"
    }
   ],
   "source": [
    "solution('bcdxabcdy', 'bcdyabcdx')"
   ]
  },
  {
   "cell_type": "markdown",
   "id": "e4f36bf3",
   "metadata": {},
   "source": [
    "### Problem Challenge 2\n",
    "**String Anagrams (hard)**\n",
    "\n",
    "<br>\n",
    "Given a string and a pattern, find all anagrams of the pattern in the given string.\n",
    "<br>\n",
    "Anagram is actually a Permutation of a string. For example, “abc” has the following six anagrams:\n",
    "\n",
    "<br>\n",
    "\n",
    "abc <br>\n",
    "acb <br>\n",
    "bac <br>\n",
    "bca <br>\n",
    "cab <br>\n",
    "cba <br>\n",
    "\n",
    "<br>\n",
    "\n",
    "Write a function to return a list of starting indices of the anagrams of the pattern in the given string.\n",
    "\n",
    "<br>\n",
    "\n",
    "#### Example 1:\n",
    "\n",
    "Input: String=\"ppqp\", Pattern=\"pq\" <br>\n",
    "Output: [1, 2] <br>\n",
    "Explanation: The two anagrams of the pattern in the given string are \"pq\" and \"qp\".<br>\n",
    "<br>\n",
    "\n",
    "#### Example 2:\n",
    "\n",
    "Input: String=\"abbcabc\", Pattern=\"abc\"<br>\n",
    "Output: [2, 3, 4]<br>\n",
    "Explanation: The three anagrams of the pattern in the given string are \"bca\", \"cab\", and \"abc\".<br>"
   ]
  },
  {
   "cell_type": "code",
   "execution_count": 120,
   "id": "39227860",
   "metadata": {},
   "outputs": [],
   "source": [
    "def solution(string, pattern):\n",
    "    from collections import Counter\n",
    "    \n",
    "    pattern_c = dict(Counter(pattern))\n",
    "    length = len(pattern)\n",
    "    current_c = dict(Counter(string[:length]))\n",
    "    \n",
    "    if current_c == pattern_c:\n",
    "        return [0,len(pattern)-1]\n",
    "    \n",
    "    for i in range(1, len(string)-length):\n",
    "        start = i\n",
    "        end = i + length - 1\n",
    "        current_c[string[end]] = 1 + current_c.get(string[end], 0)\n",
    "        current_c[string[start-1]] -= 1\n",
    "        if current_c[string[start-1]] == 0:\n",
    "            \n",
    "            del current_c[string[start-1]]\n",
    "        \n",
    "        if current_c == pattern_c:\n",
    "            return list(range(start, start+length))\n",
    "        \n",
    "    return [None]"
   ]
  },
  {
   "cell_type": "code",
   "execution_count": 121,
   "id": "e07e7a42",
   "metadata": {},
   "outputs": [
    {
     "data": {
      "text/plain": [
       "[1, 2]"
      ]
     },
     "execution_count": 121,
     "metadata": {},
     "output_type": "execute_result"
    }
   ],
   "source": [
    "solution('ppqp', 'pq')"
   ]
  },
  {
   "cell_type": "code",
   "execution_count": 122,
   "id": "808604e0",
   "metadata": {},
   "outputs": [
    {
     "data": {
      "text/plain": [
       "[2, 3, 4]"
      ]
     },
     "execution_count": 122,
     "metadata": {},
     "output_type": "execute_result"
    }
   ],
   "source": [
    "solution('abbcabc', 'abc')"
   ]
  }
 ],
 "metadata": {
  "kernelspec": {
   "display_name": "Python 3 (ipykernel)",
   "language": "python",
   "name": "python3"
  },
  "language_info": {
   "codemirror_mode": {
    "name": "ipython",
    "version": 3
   },
   "file_extension": ".py",
   "mimetype": "text/x-python",
   "name": "python",
   "nbconvert_exporter": "python",
   "pygments_lexer": "ipython3",
   "version": "3.9.7"
  }
 },
 "nbformat": 4,
 "nbformat_minor": 5
}
